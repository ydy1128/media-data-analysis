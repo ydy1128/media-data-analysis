{
 "cells": [
  {
   "cell_type": "code",
   "execution_count": 1,
   "metadata": {},
   "outputs": [],
   "source": [
    "import json\n",
    "import pandas as pd\n",
    "import os\n",
    "import datetime\n",
    "#from pandas import Grouper\n",
    "import re\n",
    "import matplotlib.pyplot as plt\n",
    "from collections import Counter\n",
    "from tqdm import tqdm\n",
    "import glob\n",
    "#import nltk\n",
    "#from nltk.corpus import stopwords"
   ]
  },
  {
   "cell_type": "code",
   "execution_count": 2,
   "metadata": {},
   "outputs": [],
   "source": [
    "#Change path for each post\n",
    "path = r'E:\\Instagram\\Typhoon_danas\\json\\post_info'\n",
    "json_files = [pos_json for pos_json in os.listdir(path) if pos_json.endswith('UTC.json')]\n",
    "os.chdir(path)\n"
   ]
  },
  {
   "cell_type": "markdown",
   "metadata": {},
   "source": [
    "## See if JSON file is valid"
   ]
  },
  {
   "cell_type": "code",
   "execution_count": 3,
   "metadata": {},
   "outputs": [
    {
     "name": "stderr",
     "output_type": "stream",
     "text": [
      "100%|█████████████████████████████████████████████████████████████████████████████| 4453/4453 [00:25<00:00, 173.73it/s]\n"
     ]
    }
   ],
   "source": [
    "for jf in tqdm(json_files):\n",
    "    with open(jf,'r') as data:\n",
    "        try:\n",
    "            json.load(data)\n",
    "        except:\n",
    "            print('Invalid json: ',jf)"
   ]
  },
  {
   "cell_type": "code",
   "execution_count": 6,
   "metadata": {},
   "outputs": [],
   "source": [
    "post_created_time = [] #The time when the post was created\n",
    "is_ad = []# Is this post an ad?\n",
    "post_owner = [] # Post owner user name\n",
    "post_owner_id = []#post owner id number\n",
    "is_video = [] # Is this post a video?\n",
    "like_count =[] # like count of a post\n",
    "caption = [] # Caption of the post\n",
    "caption_hashtag = [] # Hash tags in each captions\n",
    "caption_mention = [] #check if there is any mention\n",
    "post_count = [] # set 1 for each account\n",
    "num_comment = [] # Number of comments for each post\n"
   ]
  },
  {
   "cell_type": "code",
   "execution_count": 7,
   "metadata": {},
   "outputs": [
    {
     "name": "stderr",
     "output_type": "stream",
     "text": [
      "100%|████████████████████████████████████████████████████████████████████████████| 4453/4453 [00:03<00:00, 1173.66it/s]\n"
     ]
    }
   ],
   "source": [
    "for cmts in tqdm(json_files):\n",
    "    post_created_time.append(datetime.datetime.strptime(cmts[:-9],'%Y-%m-%d_%H-%M-%S'))\n",
    "    with open(cmts,'r',encoding=\"utf-8\") as f:\n",
    "        data = json.load(f)\n",
    "        try:\n",
    "            is_ad.append(data['node']['is_ad'])\n",
    "        except:\n",
    "            is_ad.append('-')\n",
    "        try:\n",
    "            post_owner.append(data['node']['owner']['username'])\n",
    "        except:\n",
    "            pass\n",
    "        post_owner_id.append(data['node']['owner']['id'])\n",
    "        is_video.append(data['node']['is_video'])\n",
    "        like_count.append(data['node']['edge_liked_by']['count'])\n",
    "        try:\n",
    "            caption.append(data['node']['edge_media_to_caption']['edges'][0]['node']['text'].replace('\\n','\\\\n'))\n",
    "        except:\n",
    "            caption.append('-')\n",
    "        post_count.append(1)\n",
    "        num_comment.append(data['node']['edge_media_to_comment']['count'])"
   ]
  },
  {
   "cell_type": "code",
   "execution_count": 8,
   "metadata": {},
   "outputs": [],
   "source": [
    "caption_hashtag = [re.findall(r\"#[A-Za-z0-9_.\\u3131-\\u3163\\uac00-\\ud7a3]+\", c) for c in caption]"
   ]
  },
  {
   "cell_type": "code",
   "execution_count": 9,
   "metadata": {},
   "outputs": [],
   "source": [
    "caption_mention = [re.findall(r\"@[A-Za-z0-9_.\\u3131-\\u3163\\uac00-\\ud7a3]+\", c) for c in caption]"
   ]
  },
  {
   "cell_type": "code",
   "execution_count": 10,
   "metadata": {},
   "outputs": [],
   "source": [
    "post_info = pd.DataFrame({    'Post_created_time':pd.Series(post_created_time),\n",
    "                              'is_ad':pd.Series(is_ad),\n",
    "                              'Post_Owner':pd.Series(post_owner),\n",
    "                              'Post_Owner_id':pd.Series(post_owner_id),\n",
    "                              'is_video':pd.Series(is_video),\n",
    "                              'like_count':pd.Series(like_count),\n",
    "                              'caption':pd.Series(caption),\n",
    "                              'CaptionHashtag':pd.Series(caption_hashtag),\n",
    "                              'CaptionMention':pd.Series(caption_mention),\n",
    "                              'PostCount':pd.Series(post_count),\n",
    "                              'NumComment':pd.Series(num_comment)\n",
    "                                })"
   ]
  },
  {
   "cell_type": "code",
   "execution_count": 11,
   "metadata": {},
   "outputs": [
    {
     "data": {
      "text/plain": [
       "<matplotlib.axes._subplots.AxesSubplot at 0x2b330681748>"
      ]
     },
     "execution_count": 11,
     "metadata": {},
     "output_type": "execute_result"
    },
    {
     "data": {
      "image/png": "[encoded data removed]",
      "text/plain": [
       "<Figure size 432x288 with 1 Axes>"
      ]
     },
     "metadata": {
      "needs_background": "light"
     },
     "output_type": "display_data"
    }
   ],
   "source": [
    "post_info =  post_info.sort_values('Post_created_time',ascending= True)\n",
    "post_info.plot(x='Post_created_time',y = 'NumComment')"
   ]
  },
  {
   "cell_type": "code",
   "execution_count": 12,
   "metadata": {},
   "outputs": [
    {
     "data": {
      "text/html": [
       "<div>\n",
       "<style scoped>\n",
       "    .dataframe tbody tr th:only-of-type {\n",
       "        vertical-align: middle;\n",
       "    }\n",
       "\n",
       "    .dataframe tbody tr th {\n",
       "        vertical-align: top;\n",
       "    }\n",
       "\n",
       "    .dataframe thead th {\n",
       "        text-align: right;\n",
       "    }\n",
       "</style>\n",
       "<table border=\"1\" class=\"dataframe\">\n",
       "  <thead>\n",
       "    <tr style=\"text-align: right;\">\n",
       "      <th></th>\n",
       "      <th>Post_created_time</th>\n",
       "      <th>is_ad</th>\n",
       "      <th>Post_Owner</th>\n",
       "      <th>Post_Owner_id</th>\n",
       "      <th>is_video</th>\n",
       "      <th>like_count</th>\n",
       "      <th>caption</th>\n",
       "      <th>CaptionHashtag</th>\n",
       "      <th>CaptionMention</th>\n",
       "      <th>PostCount</th>\n",
       "      <th>NumComment</th>\n",
       "    </tr>\n",
       "  </thead>\n",
       "  <tbody>\n",
       "    <tr>\n",
       "      <td>4452</td>\n",
       "      <td>2013-10-07 13:29:47</td>\n",
       "      <td>False</td>\n",
       "      <td>eunzinkim</td>\n",
       "      <td>17467806</td>\n",
       "      <td>False</td>\n",
       "      <td>26</td>\n",
       "      <td>신난다! #태풍다나스 무서워 비행기 뜨겠지..#cafedeseoyeun #제주도 #...</td>\n",
       "      <td>[#태풍다나스, #cafedeseoyeun, #제주도, #민아지윤찬양]</td>\n",
       "      <td>[]</td>\n",
       "      <td>1</td>\n",
       "      <td>0</td>\n",
       "    </tr>\n",
       "    <tr>\n",
       "      <td>4451</td>\n",
       "      <td>2013-10-08 07:39:06</td>\n",
       "      <td>False</td>\n",
       "      <td>joonhyuksong</td>\n",
       "      <td>271612925</td>\n",
       "      <td>False</td>\n",
       "      <td>14</td>\n",
       "      <td>가을비  #Diamond Ogilvy #태풍다나스 #vscocam</td>\n",
       "      <td>[#Diamond, #태풍다나스, #vscocam]</td>\n",
       "      <td>[]</td>\n",
       "      <td>1</td>\n",
       "      <td>0</td>\n",
       "    </tr>\n",
       "    <tr>\n",
       "      <td>214</td>\n",
       "      <td>2019-07-02 10:25:26</td>\n",
       "      <td>False</td>\n",
       "      <td>yeomguyioung</td>\n",
       "      <td>15375126768</td>\n",
       "      <td>False</td>\n",
       "      <td>11</td>\n",
       "      <td>비온뒤 하늘 참 맑다\\n#여름하늘\\n#벌교날씨\\n#태풍다나스</td>\n",
       "      <td>[#여름하늘, #벌교날씨, #태풍다나스]</td>\n",
       "      <td>[]</td>\n",
       "      <td>1</td>\n",
       "      <td>2</td>\n",
       "    </tr>\n",
       "    <tr>\n",
       "      <td>3624</td>\n",
       "      <td>2019-07-15 06:40:54</td>\n",
       "      <td>False</td>\n",
       "      <td>joatte_official</td>\n",
       "      <td>2967530031</td>\n",
       "      <td>True</td>\n",
       "      <td>62</td>\n",
       "      <td>안녕하세요.조아뜨입니다.\\n지금 서울에는 비가 ☔️무지하게 내리고 있어요.\\n쏟아진...</td>\n",
       "      <td>[#빗소리, #빗물, #장마, #태풍, #여름장마, #여름휴가, #가을비, #봄비,...</td>\n",
       "      <td>[]</td>\n",
       "      <td>1</td>\n",
       "      <td>13</td>\n",
       "    </tr>\n",
       "    <tr>\n",
       "      <td>4450</td>\n",
       "      <td>2019-07-16 13:26:23</td>\n",
       "      <td>False</td>\n",
       "      <td>yoommooy__</td>\n",
       "      <td>1562927982</td>\n",
       "      <td>False</td>\n",
       "      <td>24</td>\n",
       "      <td>#여름 \\n맛있어서 기절할 맛.</td>\n",
       "      <td>[#여름]</td>\n",
       "      <td>[]</td>\n",
       "      <td>1</td>\n",
       "      <td>2</td>\n",
       "    </tr>\n",
       "    <tr>\n",
       "      <td>...</td>\n",
       "      <td>...</td>\n",
       "      <td>...</td>\n",
       "      <td>...</td>\n",
       "      <td>...</td>\n",
       "      <td>...</td>\n",
       "      <td>...</td>\n",
       "      <td>...</td>\n",
       "      <td>...</td>\n",
       "      <td>...</td>\n",
       "      <td>...</td>\n",
       "      <td>...</td>\n",
       "    </tr>\n",
       "    <tr>\n",
       "      <td>4</td>\n",
       "      <td>2019-09-08 15:55:01</td>\n",
       "      <td>False</td>\n",
       "      <td>smart_flower_sy</td>\n",
       "      <td>3645121853</td>\n",
       "      <td>False</td>\n",
       "      <td>43</td>\n",
       "      <td>돌스냅 원본 미리보기😁 한달만에 원본 몇장 맛보기로 받았는데 마음이 간질간질해 더 ...</td>\n",
       "      <td>[#무보정, #강승한스냅, #태풍다나스, #너를잊지못한다, #참많이습했어요, #참정...</td>\n",
       "      <td>[]</td>\n",
       "      <td>1</td>\n",
       "      <td>5</td>\n",
       "    </tr>\n",
       "    <tr>\n",
       "      <td>3</td>\n",
       "      <td>2019-09-09 10:11:53</td>\n",
       "      <td>False</td>\n",
       "      <td>hr_park52</td>\n",
       "      <td>5726195901</td>\n",
       "      <td>False</td>\n",
       "      <td>27</td>\n",
       "      <td>20190720\\n짠👋\\n#보령#우유창고#에너자이져\\n#파베초콜릿#밀크티#카페라떼\\...</td>\n",
       "      <td>[#보령, #우유창고, #에너자이져, #파베초콜릿, #밀크티, #카페라떼, #신기해...</td>\n",
       "      <td>[]</td>\n",
       "      <td>1</td>\n",
       "      <td>4</td>\n",
       "    </tr>\n",
       "    <tr>\n",
       "      <td>2</td>\n",
       "      <td>2019-09-18 15:04:45</td>\n",
       "      <td>False</td>\n",
       "      <td>funky6783</td>\n",
       "      <td>3166603031</td>\n",
       "      <td>False</td>\n",
       "      <td>27</td>\n",
       "      <td>본격! 내 돈주고 난민체험!\\n\\n여름 휴가를 태풍으로 시작해서 돌아오니 태풍도 같...</td>\n",
       "      <td>[#klook, #망한여행사진대회, #망여사, #클룩이랑다시갈래, #클룩, #날씨빌...</td>\n",
       "      <td>[]</td>\n",
       "      <td>1</td>\n",
       "      <td>4</td>\n",
       "    </tr>\n",
       "    <tr>\n",
       "      <td>1</td>\n",
       "      <td>2019-09-18 15:11:41</td>\n",
       "      <td>False</td>\n",
       "      <td>funky6783</td>\n",
       "      <td>3166603031</td>\n",
       "      <td>False</td>\n",
       "      <td>24</td>\n",
       "      <td>10여년전에 혼자왔던 보라카이\\n\\n올해는 가족과 함께왔건만\\n\\n시원한 바람만 실...</td>\n",
       "      <td>[#klook, #망한여행사진대회, #망여사, #클룩이랑다시갈래, #클룩, #날씨빌...</td>\n",
       "      <td>[]</td>\n",
       "      <td>1</td>\n",
       "      <td>3</td>\n",
       "    </tr>\n",
       "    <tr>\n",
       "      <td>0</td>\n",
       "      <td>2019-09-18 15:14:07</td>\n",
       "      <td>False</td>\n",
       "      <td>funky6783</td>\n",
       "      <td>3166603031</td>\n",
       "      <td>False</td>\n",
       "      <td>24</td>\n",
       "      <td>보라카이 디몰에서 익사 직전 풍뎅이 구조!\\n\\n보라카이에서 풍뎅이라니;; #klo...</td>\n",
       "      <td>[#klook, #망한여행사진대회, #망여사, #클룩이랑다시갈래, #클룩, #날씨빌...</td>\n",
       "      <td>[]</td>\n",
       "      <td>1</td>\n",
       "      <td>3</td>\n",
       "    </tr>\n",
       "  </tbody>\n",
       "</table>\n",
       "<p>4453 rows × 11 columns</p>\n",
       "</div>"
      ],
      "text/plain": [
       "       Post_created_time  is_ad       Post_Owner Post_Owner_id  is_video  \\\n",
       "4452 2013-10-07 13:29:47  False        eunzinkim      17467806     False   \n",
       "4451 2013-10-08 07:39:06  False     joonhyuksong     271612925     False   \n",
       "214  2019-07-02 10:25:26  False     yeomguyioung   15375126768     False   \n",
       "3624 2019-07-15 06:40:54  False  joatte_official    2967530031      True   \n",
       "4450 2019-07-16 13:26:23  False       yoommooy__    1562927982     False   \n",
       "...                  ...    ...              ...           ...       ...   \n",
       "4    2019-09-08 15:55:01  False  smart_flower_sy    3645121853     False   \n",
       "3    2019-09-09 10:11:53  False        hr_park52    5726195901     False   \n",
       "2    2019-09-18 15:04:45  False        funky6783    3166603031     False   \n",
       "1    2019-09-18 15:11:41  False        funky6783    3166603031     False   \n",
       "0    2019-09-18 15:14:07  False        funky6783    3166603031     False   \n",
       "\n",
       "      like_count                                            caption  \\\n",
       "4452          26  신난다! #태풍다나스 무서워 비행기 뜨겠지..#cafedeseoyeun #제주도 #...   \n",
       "4451          14               가을비  #Diamond Ogilvy #태풍다나스 #vscocam   \n",
       "214           11                  비온뒤 하늘 참 맑다\\n#여름하늘\\n#벌교날씨\\n#태풍다나스   \n",
       "3624          62  안녕하세요.조아뜨입니다.\\n지금 서울에는 비가 ☔️무지하게 내리고 있어요.\\n쏟아진...   \n",
       "4450          24                                  #여름 \\n맛있어서 기절할 맛.   \n",
       "...          ...                                                ...   \n",
       "4             43  돌스냅 원본 미리보기😁 한달만에 원본 몇장 맛보기로 받았는데 마음이 간질간질해 더 ...   \n",
       "3             27  20190720\\n짠👋\\n#보령#우유창고#에너자이져\\n#파베초콜릿#밀크티#카페라떼\\...   \n",
       "2             27  본격! 내 돈주고 난민체험!\\n\\n여름 휴가를 태풍으로 시작해서 돌아오니 태풍도 같...   \n",
       "1             24  10여년전에 혼자왔던 보라카이\\n\\n올해는 가족과 함께왔건만\\n\\n시원한 바람만 실...   \n",
       "0             24  보라카이 디몰에서 익사 직전 풍뎅이 구조!\\n\\n보라카이에서 풍뎅이라니;; #klo...   \n",
       "\n",
       "                                         CaptionHashtag CaptionMention  \\\n",
       "4452            [#태풍다나스, #cafedeseoyeun, #제주도, #민아지윤찬양]             []   \n",
       "4451                       [#Diamond, #태풍다나스, #vscocam]             []   \n",
       "214                              [#여름하늘, #벌교날씨, #태풍다나스]             []   \n",
       "3624  [#빗소리, #빗물, #장마, #태풍, #여름장마, #여름휴가, #가을비, #봄비,...             []   \n",
       "4450                                              [#여름]             []   \n",
       "...                                                 ...            ...   \n",
       "4     [#무보정, #강승한스냅, #태풍다나스, #너를잊지못한다, #참많이습했어요, #참정...             []   \n",
       "3     [#보령, #우유창고, #에너자이져, #파베초콜릿, #밀크티, #카페라떼, #신기해...             []   \n",
       "2     [#klook, #망한여행사진대회, #망여사, #클룩이랑다시갈래, #클룩, #날씨빌...             []   \n",
       "1     [#klook, #망한여행사진대회, #망여사, #클룩이랑다시갈래, #클룩, #날씨빌...             []   \n",
       "0     [#klook, #망한여행사진대회, #망여사, #클룩이랑다시갈래, #클룩, #날씨빌...             []   \n",
       "\n",
       "      PostCount  NumComment  \n",
       "4452          1           0  \n",
       "4451          1           0  \n",
       "214           1           2  \n",
       "3624          1          13  \n",
       "4450          1           2  \n",
       "...         ...         ...  \n",
       "4             1           5  \n",
       "3             1           4  \n",
       "2             1           4  \n",
       "1             1           3  \n",
       "0             1           3  \n",
       "\n",
       "[4453 rows x 11 columns]"
      ]
     },
     "execution_count": 12,
     "metadata": {},
     "output_type": "execute_result"
    }
   ],
   "source": [
    "post_info"
   ]
  },
  {
   "cell_type": "code",
   "execution_count": 13,
   "metadata": {},
   "outputs": [],
   "source": [
    "post_info = post_info[post_info['Post_created_time'] > '2019-07-01' ]"
   ]
  },
  {
   "cell_type": "code",
   "execution_count": 14,
   "metadata": {},
   "outputs": [
    {
     "data": {
      "image/png": "[encoded data removed]",
      "text/plain": [
       "<Figure size 720x576 with 1 Axes>"
      ]
     },
     "metadata": {
      "needs_background": "light"
     },
     "output_type": "display_data"
    }
   ],
   "source": [
    "post_info =  post_info.sort_values('Post_created_time',ascending= True)\n",
    "post_info.plot(x='Post_created_time',y = 'NumComment').tick_params(labelsize=12)\n",
    "plt.ylabel('Number of Comments',fontsize=14)\n",
    "plt.xlabel('Post Created Time',fontsize=14)\n",
    "plt.legend(['Number of Comments'],prop={'size': 12})\n",
    "fig= plt.gcf()\n",
    "fig.set_size_inches(10, 8)\n"
   ]
  },
  {
   "cell_type": "markdown",
   "metadata": {},
   "source": [
    "## Hash Tag / Count"
   ]
  },
  {
   "cell_type": "code",
   "execution_count": 27,
   "metadata": {},
   "outputs": [],
   "source": [
    "def hashT_count(hashT_list):\n",
    "    cnt = Counter()\n",
    "    a = [val for sublist in hashT_list for val in sublist]#Flattening the list\n",
    "    for word in a:\n",
    "        cnt[word] += 1\n",
    "    df_wc = pd.DataFrame.from_dict(cnt,orient='index').reset_index().sort_values(by=0,ascending=False)\n",
    "    return df_wc"
   ]
  },
  {
   "cell_type": "code",
   "execution_count": 32,
   "metadata": {},
   "outputs": [
    {
     "data": {
      "text/html": [
       "<div>\n",
       "<style scoped>\n",
       "    .dataframe tbody tr th:only-of-type {\n",
       "        vertical-align: middle;\n",
       "    }\n",
       "\n",
       "    .dataframe tbody tr th {\n",
       "        vertical-align: top;\n",
       "    }\n",
       "\n",
       "    .dataframe thead th {\n",
       "        text-align: right;\n",
       "    }\n",
       "</style>\n",
       "<table border=\"1\" class=\"dataframe\">\n",
       "  <thead>\n",
       "    <tr style=\"text-align: right;\">\n",
       "      <th></th>\n",
       "      <th>index</th>\n",
       "      <th>0</th>\n",
       "    </tr>\n",
       "  </thead>\n",
       "  <tbody>\n",
       "    <tr>\n",
       "      <th>18</th>\n",
       "      <td>#bodypositivitymovement</td>\n",
       "      <td>10810</td>\n",
       "    </tr>\n",
       "    <tr>\n",
       "      <th>42</th>\n",
       "      <td>#bodypositivity</td>\n",
       "      <td>4883</td>\n",
       "    </tr>\n",
       "    <tr>\n",
       "      <th>99</th>\n",
       "      <td>#bodypositive</td>\n",
       "      <td>3988</td>\n",
       "    </tr>\n",
       "    <tr>\n",
       "      <th>76</th>\n",
       "      <td>#selflove</td>\n",
       "      <td>2561</td>\n",
       "    </tr>\n",
       "    <tr>\n",
       "      <th>68</th>\n",
       "      <td>#loveyourself</td>\n",
       "      <td>2148</td>\n",
       "    </tr>\n",
       "  </tbody>\n",
       "</table>\n",
       "</div>"
      ],
      "text/plain": [
       "                      index      0\n",
       "18  #bodypositivitymovement  10810\n",
       "42          #bodypositivity   4883\n",
       "99            #bodypositive   3988\n",
       "76                #selflove   2561\n",
       "68            #loveyourself   2148"
      ]
     },
     "execution_count": 32,
     "metadata": {},
     "output_type": "execute_result"
    }
   ],
   "source": [
    "hc = hashT_count(post_info['CaptionHashtag'])\n",
    "#hc = hc.rename(columns={0:'freq'})\n",
    "#hc.to_csv('flood_ko_Post_Caption_Hashtag.csv',header=True,encoding='utf-8',index=False)\n",
    "hc.head()"
   ]
  },
  {
   "cell_type": "markdown",
   "metadata": {},
   "source": [
    "## Mention Count"
   ]
  },
  {
   "cell_type": "code",
   "execution_count": 35,
   "metadata": {},
   "outputs": [
    {
     "data": {
      "text/html": [
       "<div>\n",
       "<style scoped>\n",
       "    .dataframe tbody tr th:only-of-type {\n",
       "        vertical-align: middle;\n",
       "    }\n",
       "\n",
       "    .dataframe tbody tr th {\n",
       "        vertical-align: top;\n",
       "    }\n",
       "\n",
       "    .dataframe thead th {\n",
       "        text-align: right;\n",
       "    }\n",
       "</style>\n",
       "<table border=\"1\" class=\"dataframe\">\n",
       "  <thead>\n",
       "    <tr style=\"text-align: right;\">\n",
       "      <th></th>\n",
       "      <th>index</th>\n",
       "      <th>0</th>\n",
       "    </tr>\n",
       "  </thead>\n",
       "  <tbody>\n",
       "    <tr>\n",
       "      <th>1910</th>\n",
       "      <td>@torrid</td>\n",
       "      <td>103</td>\n",
       "    </tr>\n",
       "    <tr>\n",
       "      <th>239</th>\n",
       "      <td>@new_o2gym</td>\n",
       "      <td>101</td>\n",
       "    </tr>\n",
       "    <tr>\n",
       "      <th>63</th>\n",
       "      <td>@torridfashion</td>\n",
       "      <td>94</td>\n",
       "    </tr>\n",
       "    <tr>\n",
       "      <th>59</th>\n",
       "      <td>@middayindia</td>\n",
       "      <td>90</td>\n",
       "    </tr>\n",
       "    <tr>\n",
       "      <th>18</th>\n",
       "      <td>@prettyasapicturephotography</td>\n",
       "      <td>73</td>\n",
       "    </tr>\n",
       "  </tbody>\n",
       "</table>\n",
       "</div>"
      ],
      "text/plain": [
       "                             index    0\n",
       "1910                       @torrid  103\n",
       "239                     @new_o2gym  101\n",
       "63                  @torridfashion   94\n",
       "59                    @middayindia   90\n",
       "18    @prettyasapicturephotography   73"
      ]
     },
     "execution_count": 35,
     "metadata": {},
     "output_type": "execute_result"
    }
   ],
   "source": [
    "mc = hashT_count(post_info['CaptionMention'])\n",
    "mc.head()"
   ]
  },
  {
   "cell_type": "markdown",
   "metadata": {},
   "source": [
    "## Caption Word Count"
   ]
  },
  {
   "cell_type": "code",
   "execution_count": 36,
   "metadata": {},
   "outputs": [],
   "source": [
    "def word_count(hashT_list):\n",
    "    cnt = Counter()\n",
    "    a = [i.split() for i in hashT_list]#Tokenize Words\n",
    "    b = [item for sublist in a for item in sublist]\n",
    "    for word in b:\n",
    "        cnt[word] += 1\n",
    "    df_wc = pd.DataFrame.from_dict(cnt,orient='index').reset_index().sort_values(by=0,ascending=False)\n",
    "    return df_wc"
   ]
  },
  {
   "cell_type": "code",
   "execution_count": 37,
   "metadata": {},
   "outputs": [
    {
     "data": {
      "text/html": [
       "<div>\n",
       "<style scoped>\n",
       "    .dataframe tbody tr th:only-of-type {\n",
       "        vertical-align: middle;\n",
       "    }\n",
       "\n",
       "    .dataframe tbody tr th {\n",
       "        vertical-align: top;\n",
       "    }\n",
       "\n",
       "    .dataframe thead th {\n",
       "        text-align: right;\n",
       "    }\n",
       "</style>\n",
       "<table border=\"1\" class=\"dataframe\">\n",
       "  <thead>\n",
       "    <tr style=\"text-align: right;\">\n",
       "      <th></th>\n",
       "      <th>index</th>\n",
       "      <th>0</th>\n",
       "    </tr>\n",
       "  </thead>\n",
       "  <tbody>\n",
       "    <tr>\n",
       "      <th>13</th>\n",
       "      <td>to</td>\n",
       "      <td>37701</td>\n",
       "    </tr>\n",
       "    <tr>\n",
       "      <th>55</th>\n",
       "      <td>and</td>\n",
       "      <td>33549</td>\n",
       "    </tr>\n",
       "    <tr>\n",
       "      <th>45</th>\n",
       "      <td>I</td>\n",
       "      <td>31128</td>\n",
       "    </tr>\n",
       "    <tr>\n",
       "      <th>36</th>\n",
       "      <td>the</td>\n",
       "      <td>30517</td>\n",
       "    </tr>\n",
       "    <tr>\n",
       "      <th>21</th>\n",
       "      <td>a</td>\n",
       "      <td>23421</td>\n",
       "    </tr>\n",
       "  </tbody>\n",
       "</table>\n",
       "</div>"
      ],
      "text/plain": [
       "   index      0\n",
       "13    to  37701\n",
       "55   and  33549\n",
       "45     I  31128\n",
       "36   the  30517\n",
       "21     a  23421"
      ]
     },
     "execution_count": 37,
     "metadata": {},
     "output_type": "execute_result"
    }
   ],
   "source": [
    "wc = word_count(post_info['caption'])\n",
    "wc.head()"
   ]
  },
  {
   "cell_type": "code",
   "execution_count": 40,
   "metadata": {},
   "outputs": [
    {
     "name": "stderr",
     "output_type": "stream",
     "text": [
      "[nltk_data] Downloading package stopwords to\n",
      "[nltk_data]     C:\\Users\\samle\\AppData\\Roaming\\nltk_data...\n",
      "[nltk_data]   Package stopwords is already up-to-date!\n"
     ]
    }
   ],
   "source": [
    "import nltk\n",
    "from nltk.corpus import stopwords\n",
    "from string import punctuation\n",
    "\n",
    "nltk.download('stopwords')\n",
    "s_word= set(stopwords.words('english'))\n",
    "punct_l = set(punctuation)\n",
    "\n"
   ]
  },
  {
   "cell_type": "code",
   "execution_count": 41,
   "metadata": {},
   "outputs": [],
   "source": [
    "from vaderSentiment.vaderSentiment import SentimentIntensityAnalyzer"
   ]
  },
  {
   "cell_type": "code",
   "execution_count": 55,
   "metadata": {},
   "outputs": [],
   "source": [
    "def w_count2(x):\n",
    "    cnt = Counter()\n",
    "    a = [i.lower().split() for i in x]#Tokenize Words\n",
    "    b = [item for sublist in a for item in sublist]\n",
    "    for word in b:\n",
    "        if word not in s_word: # Removes stop words\n",
    "            if word not in punct_l: # Removees Punctuation\n",
    "                if '#' not in word: # Removes hashtag\n",
    "                    if '@' not in word: # Removes mentioned account\n",
    "                        cnt[word] += 1\n",
    "        else:\n",
    "            pass\n",
    "    return dict(sorted(cnt.items(), key=lambda pair: pair[1], reverse=True))"
   ]
  },
  {
   "cell_type": "code",
   "execution_count": 63,
   "metadata": {},
   "outputs": [],
   "source": [
    "cap_cnt = w_count2(post_info['caption'])"
   ]
  },
  {
   "cell_type": "code",
   "execution_count": 69,
   "metadata": {},
   "outputs": [
    {
     "data": {
      "text/html": [
       "<div>\n",
       "<style scoped>\n",
       "    .dataframe tbody tr th:only-of-type {\n",
       "        vertical-align: middle;\n",
       "    }\n",
       "\n",
       "    .dataframe tbody tr th {\n",
       "        vertical-align: top;\n",
       "    }\n",
       "\n",
       "    .dataframe thead th {\n",
       "        text-align: right;\n",
       "    }\n",
       "</style>\n",
       "<table border=\"1\" class=\"dataframe\">\n",
       "  <thead>\n",
       "    <tr style=\"text-align: right;\">\n",
       "      <th></th>\n",
       "      <th>word</th>\n",
       "      <th>freq</th>\n",
       "    </tr>\n",
       "  </thead>\n",
       "  <tbody>\n",
       "    <tr>\n",
       "      <th>0</th>\n",
       "      <td>body</td>\n",
       "      <td>5678</td>\n",
       "    </tr>\n",
       "    <tr>\n",
       "      <th>1</th>\n",
       "      <td>love</td>\n",
       "      <td>4200</td>\n",
       "    </tr>\n",
       "    <tr>\n",
       "      <th>2</th>\n",
       "      <td>like</td>\n",
       "      <td>3771</td>\n",
       "    </tr>\n",
       "    <tr>\n",
       "      <th>3</th>\n",
       "      <td>i’m</td>\n",
       "      <td>3569</td>\n",
       "    </tr>\n",
       "    <tr>\n",
       "      <th>4</th>\n",
       "      <td>it’s</td>\n",
       "      <td>3341</td>\n",
       "    </tr>\n",
       "  </tbody>\n",
       "</table>\n",
       "</div>"
      ],
      "text/plain": [
       "   word  freq\n",
       "0  body  5678\n",
       "1  love  4200\n",
       "2  like  3771\n",
       "3   i’m  3569\n",
       "4  it’s  3341"
      ]
     },
     "execution_count": 69,
     "metadata": {},
     "output_type": "execute_result"
    }
   ],
   "source": [
    "cap_cnt2 = pd.DataFrame.from_dict(cap_cnt,orient='index').reset_index().rename(columns={'index':'word',0:'freq'})\n",
    "cap_cnt2.head()"
   ]
  },
  {
   "cell_type": "code",
   "execution_count": 71,
   "metadata": {},
   "outputs": [
    {
     "name": "stderr",
     "output_type": "stream",
     "text": [
      "\n",
      "  0%|                                                                                       | 0/109878 [00:00<?, ?it/s]\n",
      "  2%|█                                                                        | 1666/109878 [00:00<00:06, 16504.70it/s]\n",
      "  3%|██▍                                                                      | 3647/109878 [00:00<00:06, 17331.38it/s]\n",
      "  5%|███▌                                                                     | 5384/109878 [00:00<00:06, 17293.17it/s]\n",
      "  6%|████▋                                                                    | 7107/109878 [00:00<00:05, 17226.25it/s]\n",
      "  8%|██████                                                                   | 9057/109878 [00:00<00:05, 17804.65it/s]\n",
      " 10%|███████▎                                                                | 11079/109878 [00:00<00:05, 18418.88it/s]\n",
      " 12%|████████▌                                                               | 13094/109878 [00:00<00:05, 18856.13it/s]\n",
      " 14%|█████████▉                                                              | 15241/109878 [00:00<00:04, 19520.69it/s]\n",
      " 16%|███████████▎                                                            | 17344/109878 [00:00<00:04, 19896.32it/s]\n",
      " 18%|████████████▋                                                           | 19358/109878 [00:01<00:04, 19912.48it/s]\n",
      " 19%|█████████████▉                                                          | 21311/109878 [00:01<00:04, 19445.62it/s]\n",
      " 21%|███████████████▎                                                        | 23401/109878 [00:01<00:04, 19806.95it/s]\n",
      " 23%|████████████████▋                                                       | 25374/109878 [00:01<00:04, 19727.93it/s]\n",
      " 25%|█████████████████▉                                                      | 27336/109878 [00:01<00:04, 19522.20it/s]\n",
      " 27%|███████████████████▏                                                    | 29282/109878 [00:01<00:04, 19332.46it/s]\n",
      " 29%|████████████████████▌                                                   | 31392/109878 [00:01<00:03, 19778.13it/s]\n",
      " 30%|█████████████████████▉                                                  | 33404/109878 [00:01<00:03, 19822.12it/s]\n",
      " 32%|███████████████████████▎                                                | 35523/109878 [00:01<00:03, 20159.78it/s]\n",
      " 34%|████████████████████████▌                                               | 37541/109878 [00:01<00:03, 20049.09it/s]\n",
      " 36%|█████████████████████████▉                                              | 39547/109878 [00:02<00:03, 19936.08it/s]\n",
      " 38%|███████████████████████████▏                                            | 41542/109878 [00:02<00:03, 19306.55it/s]\n",
      " 40%|████████████████████████████▍                                           | 43478/109878 [00:02<00:03, 19096.79it/s]\n",
      " 41%|█████████████████████████████▋                                          | 45392/109878 [00:02<00:03, 18775.94it/s]\n",
      " 43%|██████████████████████████████▉                                         | 47274/109878 [00:02<00:03, 18119.20it/s]\n",
      " 45%|████████████████████████████████▏                                       | 49094/109878 [00:02<00:03, 17383.04it/s]\n",
      " 46%|█████████████████████████████████▎                                      | 50845/109878 [00:02<00:03, 16773.29it/s]\n",
      " 48%|██████████████████████████████████▌                                     | 52686/109878 [00:02<00:03, 17187.21it/s]\n",
      " 50%|███████████████████████████████████▉                                    | 54753/109878 [00:02<00:03, 18057.50it/s]\n",
      " 52%|█████████████████████████████████████▏                                  | 56741/109878 [00:02<00:02, 18538.12it/s]\n",
      " 53%|██████████████████████████████████████▍                                 | 58612/109878 [00:03<00:02, 18319.54it/s]\n",
      " 55%|███████████████████████████████████████▌                                | 60457/109878 [00:03<00:02, 18144.97it/s]\n",
      " 57%|████████████████████████████████████████▉                               | 62392/109878 [00:03<00:02, 18440.72it/s]\n",
      " 59%|██████████████████████████████████████████▏                             | 64403/109878 [00:03<00:02, 18861.53it/s]\n",
      " 60%|███████████████████████████████████████████▍                            | 66297/109878 [00:03<00:02, 18664.97it/s]\n",
      " 62%|████████████████████████████████████████████▋                           | 68192/109878 [00:03<00:02, 18696.24it/s]\n",
      " 64%|██████████████████████████████████████████████▏                         | 70427/109878 [00:03<00:02, 19612.65it/s]\n",
      " 66%|███████████████████████████████████████████████▍                        | 72403/109878 [00:03<00:01, 19090.50it/s]\n",
      " 68%|████████████████████████████████████████████████▋                       | 74326/109878 [00:03<00:01, 18635.01it/s]\n",
      " 69%|█████████████████████████████████████████████████▉                      | 76202/109878 [00:04<00:01, 18302.78it/s]\n",
      " 71%|███████████████████████████████████████████████████▏                    | 78042/109878 [00:04<00:01, 17156.09it/s]\n",
      " 73%|████████████████████████████████████████████████████▎                   | 79779/109878 [00:04<00:01, 17020.19it/s]\n",
      " 74%|█████████████████████████████████████████████████████▍                  | 81497/109878 [00:04<00:01, 16869.75it/s]\n",
      " 76%|██████████████████████████████████████████████████████▌                 | 83273/109878 [00:04<00:01, 17031.25it/s]\n",
      " 77%|███████████████████████████████████████████████████████▊                | 85148/109878 [00:04<00:01, 17467.08it/s]\n",
      " 79%|████████████████████████████████████████████████████████▉               | 86974/109878 [00:04<00:01, 17648.35it/s]\n",
      " 81%|██████████████████████████████████████████████████████████▏             | 88746/109878 [00:04<00:01, 16865.83it/s]\n",
      " 83%|███████████████████████████████████████████████████████████▍            | 90746/109878 [00:04<00:01, 17654.40it/s]\n",
      " 84%|████████████████████████████████████████████████████████████▋           | 92530/109878 [00:04<00:00, 17504.42it/s]\n",
      " 86%|█████████████████████████████████████████████████████████████▊          | 94294/109878 [00:05<00:00, 17340.95it/s]\n",
      " 88%|███████████████████████████████████████████████████████████████         | 96197/109878 [00:05<00:00, 17768.35it/s]\n",
      " 89%|████████████████████████████████████████████████████████████████▍       | 98287/109878 [00:05<00:00, 18556.84it/s]\n",
      " 91%|████████████████████████████████████████████████████████████████▉      | 100496/109878 [00:05<00:00, 19444.50it/s]\n",
      " 93%|██████████████████████████████████████████████████████████████████▏    | 102463/109878 [00:05<00:00, 19181.13it/s]\n",
      " 95%|███████████████████████████████████████████████████████████████████▍   | 104398/109878 [00:05<00:00, 18202.99it/s]\n",
      " 97%|████████████████████████████████████████████████████████████████████▋  | 106241/109878 [00:05<00:00, 17200.73it/s]\n",
      " 98%|█████████████████████████████████████████████████████████████████████▊ | 107988/109878 [00:05<00:00, 16737.42it/s]\n",
      "100%|███████████████████████████████████████████████████████████████████████| 109878/109878 [00:05<00:00, 18472.86it/s]"
     ]
    }
   ],
   "source": [
    "analyser = SentimentIntensityAnalyzer()\n",
    "\n",
    "wd_analysis = cap_cnt2.word.to_list()\n",
    "wd = []\n",
    "\n",
    "for word in tqdm(wd_analysis):\n",
    "    score = analyser.polarity_scores(word)\n",
    "    wd.append(score)\n",
    "    \n",
    "sent_a3 = pd.DataFrame(wd)\n",
    "sent_a3['Word'] = cap_cnt2.word"
   ]
  },
  {
   "cell_type": "code",
   "execution_count": null,
   "metadata": {},
   "outputs": [],
   "source": []
  }
 ],
 "metadata": {
  "kernelspec": {
   "display_name": "Python 3",
   "language": "python",
   "name": "python3"
  },
  "language_info": {
   "codemirror_mode": {
    "name": "ipython",
    "version": 3
   },
   "file_extension": ".py",
   "mimetype": "text/x-python",
   "name": "python",
   "nbconvert_exporter": "python",
   "pygments_lexer": "ipython3",
   "version": "3.7.4"
  }
 },
 "nbformat": 4,
 "nbformat_minor": 2
}
