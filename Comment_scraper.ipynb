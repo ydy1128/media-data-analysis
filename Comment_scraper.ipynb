{
 "cells": [
  {
   "cell_type": "code",
   "execution_count": 1,
   "metadata": {},
   "outputs": [],
   "source": [
    "import json\n",
    "import pandas as pd\n",
    "from pandas import Grouper\n",
    "import os\n",
    "import datetime\n",
    "import re\n",
    "import matplotlib.pyplot as plt\n",
    "from matplotlib.pyplot import figure\n",
    "from collections import Counter\n",
    "from tqdm import tqdm\n",
    "import glob"
   ]
  },
  {
   "cell_type": "code",
   "execution_count": 2,
   "metadata": {},
   "outputs": [],
   "source": [
    "path = r'E:\\Instagram\\Typhoon_danas\\json\\comments'\n",
    "os.chdir(path)\n",
    "json_ff = glob.glob('*')"
   ]
  },
  {
   "cell_type": "code",
   "execution_count": 4,
   "metadata": {},
   "outputs": [],
   "source": [
    "post_created_time = [] #The time when the post was created\n",
    "comment = []#Comment\n",
    "comment_post_time = []#Comment posted time\n",
    "commentor_id = []#Who commented(id number)\n",
    "commentor = []#username\n",
    "reply=[]#what are the reply of the comment?\n",
    "replied_time = []#replied_time\n",
    "replyer_id = []#replyer_id\n",
    "replyer=[]#replyer_username\n",
    "like_count = []#like count for each comment or reply\n",
    "comment_hashtag = []# Comment Hashtag\n",
    "reply_hashtag = []#reply hashtag\n",
    "comment_mention = []# Comment_mention\n",
    "reply_mention = [] # list of mentions in a reply"
   ]
  },
  {
   "cell_type": "code",
   "execution_count": 5,
   "metadata": {},
   "outputs": [
    {
     "name": "stderr",
     "output_type": "stream",
     "text": [
      "100%|████████████████████████████████████████████████████████████████████████████| 2967/2967 [00:02<00:00, 1349.84it/s]\n"
     ]
    }
   ],
   "source": [
    "\n",
    "for cmts in tqdm(json_ff):\n",
    "        with open(cmts,'r') as f:\n",
    "            data = json.load(f)\n",
    "            for c in data:\n",
    "                if len(c['answers']) < 1:\n",
    "                    try:\n",
    "                        like_count.append(c['likes_count'])\n",
    "                    except:\n",
    "                        like_count.append(0)\n",
    "                    post_created_time.append(datetime.datetime.strptime(cmts[:-18],'%Y-%m-%d_%H-%M-%S'))\n",
    "                    comment.append(c['text'])\n",
    "                    comment_post_time.append(datetime.datetime.utcfromtimestamp(c['created_at']).strftime('%Y-%m-%d_%H-%M-%S'))\n",
    "                    commentor_id.append(c['owner']['id'])\n",
    "                    commentor.append(c['owner']['username'])\n",
    "                    reply.append('-')\n",
    "                    replied_time.append('-')\n",
    "                    replyer_id.append('-')\n",
    "                    replyer.append('-')\n",
    "                    \n",
    "                else:\n",
    "                    for r in range(len(c['answers'])):\n",
    "                        post_created_time.append(datetime.datetime.strptime(cmts[:-18],'%Y-%m-%d_%H-%M-%S'))\n",
    "                        comment.append(c['text'])\n",
    "                        comment_post_time.append(datetime.datetime.utcfromtimestamp(c['created_at']).strftime('%Y-%m-%d_%H-%M-%S'))\n",
    "                        commentor_id.append(c['owner']['id'])\n",
    "                        commentor.append(c['owner']['username'])\n",
    "                        reply.append(c['answers'][r]['text'])\n",
    "                        replied_time.append(datetime.datetime.utcfromtimestamp(c['answers'][r]['created_at']).strftime('%Y-%m-%d_%H-%M-%S'))\n",
    "                        replyer_id.append(c['answers'][r]['owner']['id'])\n",
    "                        replyer.append(c['answers'][r]['owner']['username'])    \n",
    "                        try:\n",
    "                            like_count.append(c['answers'][r]['likes_count'])\n",
    "                        except:\n",
    "                            like_count.append(0)\n"
   ]
  },
  {
   "cell_type": "code",
   "execution_count": 6,
   "metadata": {},
   "outputs": [],
   "source": [
    "\n",
    "reply_mention = [re.findall(r\"@[A-Za-z0-9_.\\u3131-\\u3163\\uac00-\\ud7a3]+\", r) for r in reply]\n",
    "\n",
    "reply_hashtag = [re.findall(r\"#[A-Za-z0-9_.\\u3131-\\u3163\\uac00-\\ud7a3]+\", r) for r in reply]\n",
    "#list of hashtags in each comment\n",
    "comment_hashtag = [re.findall(r\"#[A-Za-z0-9_.\\u3131-\\u3163\\uac00-\\ud7a3]+\", c) for c in comment]\n",
    "#List of ID that were mentioned in the comment\n",
    "comment_mention = [re.findall(r\"@[A-Za-z0-9_.\\u3131-\\u3163\\uac00-\\ud7a3]+\", c) for c in comment]"
   ]
  },
  {
   "cell_type": "code",
   "execution_count": 7,
   "metadata": {},
   "outputs": [],
   "source": [
    "comments_info = pd.DataFrame({'Post_created_time':pd.Series(post_created_time),\n",
    "                              'comment':pd.Series(comment),\n",
    "                              'comment_posted_time':pd.Series(comment_post_time),\n",
    "                              'commentor_ID':pd.Series(commentor_id),\n",
    "                              'commentor':pd.Series(commentor),\n",
    "                              'comment_hashtag': pd.Series(comment_hashtag),\n",
    "                              'comment_mention':pd.Series(comment_mention),\n",
    "                              'reply':pd.Series(reply),\n",
    "                              'replied_time':pd.Series(replied_time),\n",
    "                              'replyer_id':pd.Series(replyer_id),\n",
    "                              'replyer':pd.Series(replyer),\n",
    "                              'reply_hashtag' : pd.Series(reply_hashtag),\n",
    "                              'reply_mention':pd.Series(reply_mention),\n",
    "                              'like_count':pd.Series(like_count)\n",
    "                                })"
   ]
  },
  {
   "cell_type": "code",
   "execution_count": 8,
   "metadata": {},
   "outputs": [],
   "source": [
    "comments_info.sort_values(by='Post_created_time',ascending=True,inplace=True)"
   ]
  },
  {
   "cell_type": "code",
   "execution_count": null,
   "metadata": {},
   "outputs": [],
   "source": [
    "comments_info.to_csv(\"태풍타파_comment_info.csv\",index=False,header=True)"
   ]
  }
 ],
 "metadata": {
  "kernelspec": {
   "display_name": "Python 3",
   "language": "python",
   "name": "python3"
  },
  "language_info": {
   "codemirror_mode": {
    "name": "ipython",
    "version": 3
   },
   "file_extension": ".py",
   "mimetype": "text/x-python",
   "name": "python",
   "nbconvert_exporter": "python",
   "pygments_lexer": "ipython3",
   "version": "3.7.4"
  }
 },
 "nbformat": 4,
 "nbformat_minor": 2
}
