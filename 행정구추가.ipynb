{
 "cells": [
  {
   "cell_type": "code",
   "execution_count": 6,
   "metadata": {},
   "outputs": [],
   "source": [
    "import requests\n",
    "import json\n",
    "import pandas as pd\n",
    "import glob\n",
    "import json\n",
    "from multiprocessing import Pool\n",
    "import multiprocessing"
   ]
  },
  {
   "cell_type": "code",
   "execution_count": 7,
   "metadata": {},
   "outputs": [
    {
     "data": {
      "text/plain": [
       "['./data/태풍링링_comment_info.csv',\n",
       " './data/ht_태풍_타파_post_info.csv',\n",
       " './data/ht_태풍_링링_comments_info.csv',\n",
       " './data/태풍_location_info.csv',\n",
       " './data/태풍타파_location_info.csv',\n",
       " './data/태풍_post_info.csv',\n",
       " './data/ht_태풍_타파_comments_info.csv',\n",
       " './data/태풍타파_post_info.csv',\n",
       " './data/태풍링링_location.csv',\n",
       " './data/ht_태풍_다나스_post_info.csv',\n",
       " './data/태풍타파_comment_info.csv',\n",
       " './data/ht_태풍_다나스_comments_info.csv',\n",
       " './data/태풍_comment_info.csv',\n",
       " './data/태풍링링_post_info.csv',\n",
       " './data/ht_태풍_링링_post_info.csv',\n",
       " './data/ht_태풍_프란시스코_post_info.csv',\n",
       " './data/ht_태풍_프란시스코_comments_info.csv']"
      ]
     },
     "execution_count": 7,
     "metadata": {},
     "output_type": "execute_result"
    }
   ],
   "source": [
    "glob.glob('./data/*.csv')"
   ]
  },
  {
   "cell_type": "code",
   "execution_count": 77,
   "metadata": {},
   "outputs": [],
   "source": [
    "loc = pd.read_csv('./data/태풍_location_info.csv')\n",
    "loc_tapa = pd.read_csv('./data/태풍타파_location_info.csv')\n",
    "loc_ring = pd.read_csv('./data/태풍링링_location.csv')"
   ]
  },
  {
   "cell_type": "code",
   "execution_count": 14,
   "metadata": {},
   "outputs": [],
   "source": [
    "url = 'https://dapi.kakao.com/v2/local/geo/coord2regioncode.json?'\n",
    "header = {'Authorization': 'KakaoAK 개인토큰'}"
   ]
  },
  {
   "cell_type": "code",
   "execution_count": 79,
   "metadata": {},
   "outputs": [
    {
     "data": {
      "text/plain": [
       "12"
      ]
     },
     "execution_count": 79,
     "metadata": {},
     "output_type": "execute_result"
    }
   ],
   "source": [
    "multiprocessing.cpu_count()"
   ]
  },
  {
   "cell_type": "code",
   "execution_count": 51,
   "metadata": {},
   "outputs": [],
   "source": [
    "def get_address(x):\n",
    "    try:\n",
    "        q = {\"x\":x['Longitude'], \"y\":x['Latitude']}\n",
    "        r = requests.get(url, headers=headers, params=q)\n",
    "        result = json.loads(r.text)\n",
    "        return result['documents'][0]['region_1depth_name'], result['documents'][0]['region_2depth_name'], result['documents'][0]['region_3depth_name']\n",
    "    except Exception as e:\n",
    "        return 'Not Found'"
   ]
  },
  {
   "cell_type": "code",
   "execution_count": 82,
   "metadata": {},
   "outputs": [],
   "source": [
    "def get_address_multiprocessing(df):\n",
    "    df['행정구'] = df[['Latitude', 'Longitude']].apply(get_address, axis=1)\n",
    "    return df"
   ]
  },
  {
   "cell_type": "code",
   "execution_count": 80,
   "metadata": {},
   "outputs": [],
   "source": [
    "def parallelize_datafram(df, func, n_cores=12):\n",
    "    df_split = np.array_split(df, n_cores)\n",
    "    pool = Pool(n_cores)\n",
    "    df = pd.concat(pool.map(func, df_split))\n",
    "    pool.close()\n",
    "    pool.join()\n",
    "    return df"
   ]
  },
  {
   "cell_type": "code",
   "execution_count": 90,
   "metadata": {},
   "outputs": [],
   "source": [
    "def preprocessing(df):\n",
    "    df['행정구_depth1'] = df['행정구'].str[0]\n",
    "    df['행정구_depth2'] = df['행정구'].str[1]\n",
    "    df['행정구_depth3'] = df['행정구'].str[2]\n",
    "    df.loc[df['행정구'] == 'Not Found', '행정구'] = np.nan\n",
    "    df.loc[df['행정구'].isnull(), '행정구_depth1'] = np.nan\n",
    "    df.loc[df['행정구'].isnull(), '행정구_depth2'] = np.nan\n",
    "    df.loc[df['행정구'].isnull(), '행정구_depth3'] = np.nan\n",
    "    return df"
   ]
  },
  {
   "cell_type": "code",
   "execution_count": 88,
   "metadata": {},
   "outputs": [],
   "source": [
    "loc = parallelize_datafram(loc, get_address_multiprocessing)\n",
    "loc_ring = parallelize_datafram(loc_ring, get_address_multiprocessing)\n",
    "loc_tapa = parallelize_datafram(loc_tapa, get_address_multiprocessing)"
   ]
  },
  {
   "cell_type": "code",
   "execution_count": 96,
   "metadata": {},
   "outputs": [],
   "source": [
    "loc = preprocessing(loc)\n",
    "loc_tapa = preprocessing(loc_tapa)\n",
    "loc_ring = preprocessing(loc_ring)"
   ]
  },
  {
   "cell_type": "code",
   "execution_count": 97,
   "metadata": {},
   "outputs": [
    {
     "data": {
      "text/html": [
       "<div>\n",
       "<style scoped>\n",
       "    .dataframe tbody tr th:only-of-type {\n",
       "        vertical-align: middle;\n",
       "    }\n",
       "\n",
       "    .dataframe tbody tr th {\n",
       "        vertical-align: top;\n",
       "    }\n",
       "\n",
       "    .dataframe thead th {\n",
       "        text-align: right;\n",
       "    }\n",
       "</style>\n",
       "<table border=\"1\" class=\"dataframe\">\n",
       "  <thead>\n",
       "    <tr style=\"text-align: right;\">\n",
       "      <th></th>\n",
       "      <th>Post_created_time</th>\n",
       "      <th>location</th>\n",
       "      <th>GoogleMap</th>\n",
       "      <th>Latitude</th>\n",
       "      <th>Longitude</th>\n",
       "      <th>행정구</th>\n",
       "      <th>행정구_depth1</th>\n",
       "      <th>행정구_depth2</th>\n",
       "      <th>행정구_depth3</th>\n",
       "    </tr>\n",
       "  </thead>\n",
       "  <tbody>\n",
       "    <tr>\n",
       "      <td>0</td>\n",
       "      <td>2019-09-19 00:02:05</td>\n",
       "      <td>전포카페거리 전리단길</td>\n",
       "      <td>https://maps.google.com/maps?q=35.1553018503,1...</td>\n",
       "      <td>35.155302</td>\n",
       "      <td>129.062662</td>\n",
       "      <td>(부산광역시, 부산진구, 전포동)</td>\n",
       "      <td>부산광역시</td>\n",
       "      <td>부산진구</td>\n",
       "      <td>전포동</td>\n",
       "    </tr>\n",
       "    <tr>\n",
       "      <td>1</td>\n",
       "      <td>2019-09-19 03:26:01</td>\n",
       "      <td>Surfyy Beach : 서피비치</td>\n",
       "      <td>https://maps.google.com/maps?q=38.0279262008,1...</td>\n",
       "      <td>38.027926</td>\n",
       "      <td>128.717501</td>\n",
       "      <td>(강원도, 양양군, 현북면)</td>\n",
       "      <td>강원도</td>\n",
       "      <td>양양군</td>\n",
       "      <td>현북면</td>\n",
       "    </tr>\n",
       "    <tr>\n",
       "      <td>2</td>\n",
       "      <td>2019-09-19 05:07:04</td>\n",
       "      <td>미소아트</td>\n",
       "      <td>https://maps.google.com/maps?q=35.2619324583,1...</td>\n",
       "      <td>35.261932</td>\n",
       "      <td>128.864243</td>\n",
       "      <td>(경상남도, 김해시, 삼계동)</td>\n",
       "      <td>경상남도</td>\n",
       "      <td>김해시</td>\n",
       "      <td>삼계동</td>\n",
       "    </tr>\n",
       "    <tr>\n",
       "      <td>3</td>\n",
       "      <td>2019-09-19 08:38:02</td>\n",
       "      <td>전주대학교</td>\n",
       "      <td>https://maps.google.com/maps?q=35.8160900233,1...</td>\n",
       "      <td>35.816090</td>\n",
       "      <td>127.089043</td>\n",
       "      <td>(전라북도, 전주시 완산구, 효자동3가)</td>\n",
       "      <td>전라북도</td>\n",
       "      <td>전주시 완산구</td>\n",
       "      <td>효자동3가</td>\n",
       "    </tr>\n",
       "    <tr>\n",
       "      <td>4</td>\n",
       "      <td>2019-09-19 08:49:05</td>\n",
       "      <td>Secretgarden JEJU</td>\n",
       "      <td>https://maps.google.com/maps?q=33.5283020863,1...</td>\n",
       "      <td>33.528302</td>\n",
       "      <td>126.659961</td>\n",
       "      <td>(제주특별자치도, 제주시, 조천읍)</td>\n",
       "      <td>제주특별자치도</td>\n",
       "      <td>제주시</td>\n",
       "      <td>조천읍</td>\n",
       "    </tr>\n",
       "    <tr>\n",
       "      <td>...</td>\n",
       "      <td>...</td>\n",
       "      <td>...</td>\n",
       "      <td>...</td>\n",
       "      <td>...</td>\n",
       "      <td>...</td>\n",
       "      <td>...</td>\n",
       "      <td>...</td>\n",
       "      <td>...</td>\n",
       "      <td>...</td>\n",
       "    </tr>\n",
       "    <tr>\n",
       "      <td>3816</td>\n",
       "      <td>2019-10-17 17:30:02</td>\n",
       "      <td>The MVL</td>\n",
       "      <td>https://maps.google.com/maps?q=34.7424995236,1...</td>\n",
       "      <td>34.742500</td>\n",
       "      <td>127.754591</td>\n",
       "      <td>(전라남도, 여수시, 수정동)</td>\n",
       "      <td>전라남도</td>\n",
       "      <td>여수시</td>\n",
       "      <td>수정동</td>\n",
       "    </tr>\n",
       "    <tr>\n",
       "      <td>3817</td>\n",
       "      <td>2019-10-18 05:53:03</td>\n",
       "      <td>죽동 어딘가</td>\n",
       "      <td>https://maps.google.com/maps?q=36.3700620505,1...</td>\n",
       "      <td>36.370062</td>\n",
       "      <td>127.339374</td>\n",
       "      <td>(대전광역시, 유성구, 죽동)</td>\n",
       "      <td>대전광역시</td>\n",
       "      <td>유성구</td>\n",
       "      <td>죽동</td>\n",
       "    </tr>\n",
       "    <tr>\n",
       "      <td>3818</td>\n",
       "      <td>2019-10-19 01:25:01</td>\n",
       "      <td>엔터식스 안양점</td>\n",
       "      <td>https://maps.google.com/maps?q=37.4023286,126....</td>\n",
       "      <td>37.402329</td>\n",
       "      <td>126.921640</td>\n",
       "      <td>(경기도, 안양시 만안구, 안양동)</td>\n",
       "      <td>경기도</td>\n",
       "      <td>안양시 만안구</td>\n",
       "      <td>안양동</td>\n",
       "    </tr>\n",
       "    <tr>\n",
       "      <td>3819</td>\n",
       "      <td>2019-10-19 02:42:04</td>\n",
       "      <td>더미소</td>\n",
       "      <td>https://maps.google.com/maps?q=37.239407,126.6...</td>\n",
       "      <td>37.239407</td>\n",
       "      <td>126.663579</td>\n",
       "      <td>(경기도, 화성시, 송산면)</td>\n",
       "      <td>경기도</td>\n",
       "      <td>화성시</td>\n",
       "      <td>송산면</td>\n",
       "    </tr>\n",
       "    <tr>\n",
       "      <td>3820</td>\n",
       "      <td>2019-10-19 07:41:02</td>\n",
       "      <td>현대백화점</td>\n",
       "      <td>https://maps.google.com/maps?q=37.3924422411,1...</td>\n",
       "      <td>37.392442</td>\n",
       "      <td>127.112010</td>\n",
       "      <td>(경기도, 성남시 분당구, 백현동)</td>\n",
       "      <td>경기도</td>\n",
       "      <td>성남시 분당구</td>\n",
       "      <td>백현동</td>\n",
       "    </tr>\n",
       "  </tbody>\n",
       "</table>\n",
       "<p>3821 rows × 9 columns</p>\n",
       "</div>"
      ],
      "text/plain": [
       "        Post_created_time             location  \\\n",
       "0     2019-09-19 00:02:05          전포카페거리 전리단길   \n",
       "1     2019-09-19 03:26:01  Surfyy Beach : 서피비치   \n",
       "2     2019-09-19 05:07:04                 미소아트   \n",
       "3     2019-09-19 08:38:02                전주대학교   \n",
       "4     2019-09-19 08:49:05    Secretgarden JEJU   \n",
       "...                   ...                  ...   \n",
       "3816  2019-10-17 17:30:02              The MVL   \n",
       "3817  2019-10-18 05:53:03               죽동 어딘가   \n",
       "3818  2019-10-19 01:25:01             엔터식스 안양점   \n",
       "3819  2019-10-19 02:42:04                  더미소   \n",
       "3820  2019-10-19 07:41:02                현대백화점   \n",
       "\n",
       "                                              GoogleMap   Latitude  \\\n",
       "0     https://maps.google.com/maps?q=35.1553018503,1...  35.155302   \n",
       "1     https://maps.google.com/maps?q=38.0279262008,1...  38.027926   \n",
       "2     https://maps.google.com/maps?q=35.2619324583,1...  35.261932   \n",
       "3     https://maps.google.com/maps?q=35.8160900233,1...  35.816090   \n",
       "4     https://maps.google.com/maps?q=33.5283020863,1...  33.528302   \n",
       "...                                                 ...        ...   \n",
       "3816  https://maps.google.com/maps?q=34.7424995236,1...  34.742500   \n",
       "3817  https://maps.google.com/maps?q=36.3700620505,1...  36.370062   \n",
       "3818  https://maps.google.com/maps?q=37.4023286,126....  37.402329   \n",
       "3819  https://maps.google.com/maps?q=37.239407,126.6...  37.239407   \n",
       "3820  https://maps.google.com/maps?q=37.3924422411,1...  37.392442   \n",
       "\n",
       "       Longitude                     행정구 행정구_depth1 행정구_depth2 행정구_depth3  \n",
       "0     129.062662      (부산광역시, 부산진구, 전포동)      부산광역시       부산진구        전포동  \n",
       "1     128.717501         (강원도, 양양군, 현북면)        강원도        양양군        현북면  \n",
       "2     128.864243        (경상남도, 김해시, 삼계동)       경상남도        김해시        삼계동  \n",
       "3     127.089043  (전라북도, 전주시 완산구, 효자동3가)       전라북도    전주시 완산구      효자동3가  \n",
       "4     126.659961     (제주특별자치도, 제주시, 조천읍)    제주특별자치도        제주시        조천읍  \n",
       "...          ...                     ...        ...        ...        ...  \n",
       "3816  127.754591        (전라남도, 여수시, 수정동)       전라남도        여수시        수정동  \n",
       "3817  127.339374        (대전광역시, 유성구, 죽동)      대전광역시        유성구         죽동  \n",
       "3818  126.921640     (경기도, 안양시 만안구, 안양동)        경기도    안양시 만안구        안양동  \n",
       "3819  126.663579         (경기도, 화성시, 송산면)        경기도        화성시        송산면  \n",
       "3820  127.112010     (경기도, 성남시 분당구, 백현동)        경기도    성남시 분당구        백현동  \n",
       "\n",
       "[3821 rows x 9 columns]"
      ]
     },
     "execution_count": 97,
     "metadata": {},
     "output_type": "execute_result"
    }
   ],
   "source": [
    "loc.to_csv('./data/태풍_location_info_행정구.csv')\n",
    "loc_tapa.to_csv('./data/태풍타파_location_info_행정구.csv')\n",
    "loc_ring.to_csv('./data/태풍링링_location_행정구.csv')"
   ]
  }
 ],
 "metadata": {
  "kernelspec": {
   "display_name": "Python 3",
   "language": "python",
   "name": "python3"
  },
  "language_info": {
   "codemirror_mode": {
    "name": "ipython",
    "version": 3
   },
   "file_extension": ".py",
   "mimetype": "text/x-python",
   "name": "python",
   "nbconvert_exporter": "python",
   "pygments_lexer": "ipython3",
   "version": "3.7.5"
  }
 },
 "nbformat": 4,
 "nbformat_minor": 4
}
