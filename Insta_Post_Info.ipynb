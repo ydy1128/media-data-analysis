{
 "cells": [
  {
   "cell_type": "code",
   "execution_count": 1,
   "metadata": {},
   "outputs": [],
   "source": [
    "import json\n",
    "import pandas as pd\n",
    "import os\n",
    "import datetime\n",
    "from tqdm import tqdm\n",
    "import glob\n",
    "import re"
   ]
  },
  {
   "cell_type": "code",
   "execution_count": 10,
   "metadata": {},
   "outputs": [],
   "source": [
    "path = r'E:\\Instagram\\Typhoon_tapa\\json\\post_info'\n",
    "json_files = [pos_json for pos_json in os.listdir(path) if pos_json.endswith('UTC.json')]\n",
    "os.chdir(path)"
   ]
  },
  {
   "cell_type": "code",
   "execution_count": 19,
   "metadata": {},
   "outputs": [],
   "source": [
    "post_created_time = [] #The time when the post was created\n",
    "is_ad = []# Is this post an ad?\n",
    "post_owner = [] # Post owner user name\n",
    "post_owner_id = []#post owner id number\n",
    "is_video = [] # Is this post a video?\n",
    "like_count =[] # like count of a post\n",
    "caption = [] # Caption of the post\n",
    "caption_hashtag = [] # Hash tags in each captions\n",
    "caption_mention = [] #check if there is any mention\n",
    "post_count = [] # set 1 for each account\n",
    "num_comment = [] # Number of comments for each post\n"
   ]
  },
  {
   "cell_type": "code",
   "execution_count": 20,
   "metadata": {},
   "outputs": [
    {
     "name": "stderr",
     "output_type": "stream",
     "text": [
      "100%|███████████████████████████████████████████████████████████████████████████| 10786/10786 [00:18<00:00, 589.81it/s]\n"
     ]
    }
   ],
   "source": [
    "for cmts in tqdm(json_files):\n",
    "    post_created_time.append(datetime.datetime.strptime(cmts[:-9],'%Y-%m-%d_%H-%M-%S'))\n",
    "    with open(cmts,'r',encoding=\"utf-8\") as f:\n",
    "        data = json.load(f)\n",
    "        try:\n",
    "            is_ad.append(data['node']['is_ad'])\n",
    "        except:\n",
    "            is_ad.append('-')\n",
    "        try:\n",
    "            post_owner.append(data['node']['owner']['username'])\n",
    "        except:\n",
    "            pass\n",
    "        post_owner_id.append(data['node']['owner']['id'])\n",
    "        is_video.append(data['node']['is_video'])\n",
    "        like_count.append(data['node']['edge_liked_by']['count'])\n",
    "        try:\n",
    "            caption.append(data['node']['edge_media_to_caption']['edges'][0]['node']['text'].replace('\\n','\\\\n'))\n",
    "        except:\n",
    "            caption.append('-')\n",
    "        post_count.append(1)\n",
    "        num_comment.append(data['node']['edge_media_to_comment']['count'])"
   ]
  },
  {
   "cell_type": "code",
   "execution_count": 21,
   "metadata": {},
   "outputs": [],
   "source": [
    "caption_hashtag = [re.findall(r\"#[A-Za-z0-9_.\\u3131-\\u3163\\uac00-\\ud7a3]+\", c) for c in caption]"
   ]
  },
  {
   "cell_type": "code",
   "execution_count": 22,
   "metadata": {},
   "outputs": [],
   "source": [
    "caption_mention = [re.findall(r\"@[A-Za-z0-9_.\\u3131-\\u3163\\uac00-\\ud7a3]+\", c) for c in caption]"
   ]
  },
  {
   "cell_type": "code",
   "execution_count": 23,
   "metadata": {},
   "outputs": [],
   "source": [
    "post_info = pd.DataFrame({    'Post_created_time':pd.Series(post_created_time),\n",
    "                              'is_ad':pd.Series(is_ad),\n",
    "                              'Post_Owner':pd.Series(post_owner),\n",
    "                              'Post_Owner_id':pd.Series(post_owner_id),\n",
    "                              'is_video':pd.Series(is_video),\n",
    "                              'like_count':pd.Series(like_count),\n",
    "                              'caption':pd.Series(caption),\n",
    "                              'CaptionHashtag':pd.Series(caption_hashtag),\n",
    "                              'CaptionMention':pd.Series(caption_mention),\n",
    "                              'PostCount':pd.Series(post_count),\n",
    "                              'NumComment':pd.Series(num_comment)\n",
    "                                })"
   ]
  },
  {
   "cell_type": "code",
   "execution_count": 24,
   "metadata": {},
   "outputs": [
    {
     "data": {
      "text/plain": [
       "<matplotlib.axes._subplots.AxesSubplot at 0x1a39fb0bb48>"
      ]
     },
     "execution_count": 24,
     "metadata": {},
     "output_type": "execute_result"
    },
    {
     "data": {
      "image/png": "[encoded data removed]",
      "text/plain": [
       "<Figure size 432x288 with 1 Axes>"
      ]
     },
     "metadata": {
      "needs_background": "light"
     },
     "output_type": "display_data"
    }
   ],
   "source": [
    "post_info =  post_info.sort_values('Post_created_time',ascending= True)\n",
    "post_info.plot(x='Post_created_time',y = 'NumComment')"
   ]
  },
  {
   "cell_type": "code",
   "execution_count": 25,
   "metadata": {},
   "outputs": [],
   "source": [
    "post_info = post_info[post_info['Post_created_time'] > '2019-09-01' ]"
   ]
  },
  {
   "cell_type": "code",
   "execution_count": 26,
   "metadata": {},
   "outputs": [
    {
     "data": {
      "text/plain": [
       "<matplotlib.axes._subplots.AxesSubplot at 0x1a39fc12288>"
      ]
     },
     "execution_count": 26,
     "metadata": {},
     "output_type": "execute_result"
    },
    {
     "data": {
      "image/png": "[encoded data removed]",
      "text/plain": [
       "<Figure size 432x288 with 1 Axes>"
      ]
     },
     "metadata": {
      "needs_background": "light"
     },
     "output_type": "display_data"
    }
   ],
   "source": [
    "post_info =  post_info.sort_values('Post_created_time',ascending= True)\n",
    "post_info.plot(x='Post_created_time',y = 'NumComment')"
   ]
  },
  {
   "cell_type": "code",
   "execution_count": 28,
   "metadata": {},
   "outputs": [],
   "source": [
    "post_info.to_csv('태풍타파.csv',header=True, index = False)"
   ]
  },
  {
   "cell_type": "code",
   "execution_count": null,
   "metadata": {},
   "outputs": [],
   "source": []
  }
 ],
 "metadata": {
  "kernelspec": {
   "display_name": "Python 3",
   "language": "python",
   "name": "python3"
  },
  "language_info": {
   "codemirror_mode": {
    "name": "ipython",
    "version": 3
   },
   "file_extension": ".py",
   "mimetype": "text/x-python",
   "name": "python",
   "nbconvert_exporter": "python",
   "pygments_lexer": "ipython3",
   "version": "3.7.4"
  }
 },
 "nbformat": 4,
 "nbformat_minor": 2
}
